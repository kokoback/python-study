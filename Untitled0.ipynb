{
  "nbformat": 4,
  "nbformat_minor": 0,
  "metadata": {
    "colab": {
      "name": "Untitled0.ipynb",
      "provenance": [],
      "collapsed_sections": [],
      "toc_visible": true,
      "authorship_tag": "ABX9TyMdk0zt+qXz9UckH+qWZzg2",
      "include_colab_link": true
    },
    "kernelspec": {
      "name": "python3",
      "display_name": "Python 3"
    },
    "language_info": {
      "name": "python"
    }
  },
  "cells": [
    {
      "cell_type": "markdown",
      "metadata": {
        "id": "view-in-github",
        "colab_type": "text"
      },
      "source": [
        "<a href=\"https://colab.research.google.com/github/kokoback/python-study/blob/main/Untitled0.ipynb\" target=\"_parent\"><img src=\"https://colab.research.google.com/assets/colab-badge.svg\" alt=\"Open In Colab\"/></a>"
      ]
    },
    {
      "cell_type": "markdown",
      "source": [
        "# Hello, world! 출력\n",
        "print 함수로 Hello, world!를 출력합니다."
      ],
      "metadata": {
        "id": "E7lil4MVnRWI"
      }
    },
    {
      "cell_type": "code",
      "execution_count": null,
      "metadata": {
        "id": "CmPN0LPwk6gz",
        "colab": {
          "base_uri": "https://localhost:8080/"
        },
        "outputId": "209ba1c7-fb2e-486b-f387-d27055c7e822"
      },
      "outputs": [
        {
          "output_type": "stream",
          "name": "stdout",
          "text": [
            "Hello, world!\n"
          ]
        }
      ],
      "source": [
        "print('Hello, world!')"
      ]
    },
    {
      "cell_type": "markdown",
      "source": [
        "# == , != 와 is, is not 의 차이점\n",
        "== 과 != 는 값 자체를 비교하고, is 와 is not은 객체를 비교한다.\n",
        "\n",
        "is 는 True나 False, None 과 비교할 때만 사용하자!"
      ],
      "metadata": {
        "id": "YZxMXvT5cRau"
      }
    },
    {
      "cell_type": "code",
      "source": [
        "print(3 == 3.0)\n",
        "print(3 is 3.0)"
      ],
      "metadata": {
        "colab": {
          "base_uri": "https://localhost:8080/"
        },
        "id": "m5qYBEgidqnr",
        "outputId": "90212d0e-f573-4c86-bf18-6d83f8542f8f"
      },
      "execution_count": null,
      "outputs": [
        {
          "output_type": "stream",
          "name": "stdout",
          "text": [
            "True\n",
            "False\n"
          ]
        }
      ]
    },
    {
      "cell_type": "markdown",
      "source": [
        "## 객체가 같은지 다른지 비교하기\n",
        "=, !=는 값 자체를 비교하고, is, is not은 객체(object)를 비교합니다"
      ],
      "metadata": {
        "id": "DvMRcykFHQsl"
      }
    },
    {
      "cell_type": "code",
      "source": [
        "print(1 == 1.0)\n",
        "print(1 is 1.0)\n",
        "print(1 is not 1.0)"
      ],
      "metadata": {
        "id": "tQVgjttdHYuw",
        "outputId": "a40865d2-a0e4-48a0-db42-65ccca44cf76",
        "colab": {
          "base_uri": "https://localhost:8080/"
        }
      },
      "execution_count": null,
      "outputs": [
        {
          "output_type": "stream",
          "name": "stdout",
          "text": [
            "True\n",
            "False\n",
            "True\n"
          ]
        }
      ]
    },
    {
      "cell_type": "markdown",
      "source": [
        "# 정수 계산\n",
        "파이썬 2에서 5 / 2는 2.5가 아닌 2가 나오는데, 정수끼리 나눗셈 결과는 정수가 나오도록 정했기 때문입니다. \n",
        "\n",
        "하지만 파이썬 3는 정수끼리 나눗셈을 해도 실수가 나옵니다."
      ],
      "metadata": {
        "id": "wQgcdiol2R4k"
      }
    },
    {
      "cell_type": "code",
      "source": [
        "print(5/2)\n",
        "print(4/2)"
      ],
      "metadata": {
        "id": "a98LaTyG2ZQC",
        "outputId": "0868c048-e0da-4f51-ce3f-cc86c1651130",
        "colab": {
          "base_uri": "https://localhost:8080/"
        }
      },
      "execution_count": null,
      "outputs": [
        {
          "output_type": "stream",
          "name": "stdout",
          "text": [
            "2.5\n",
            "2.0\n"
          ]
        }
      ]
    },
    {
      "cell_type": "markdown",
      "source": [
        "## 나눗셈 후 소수점 이하를 버리는 // 연산자\n",
        "//은 버림 나눗셈(floor division)이라고 부르며 나눗셈의 결과에서 소수점 이하는 버립니다.\n",
        "\n",
        "실수에 // 연산자를 사용하면 결과는 실수가 나오며 소수점 이하는 버립니다. 따라서 결과는 항상 .0으로 끝납니다."
      ],
      "metadata": {
        "id": "GcdG1Ibq4RrC"
      }
    },
    {
      "cell_type": "code",
      "source": [
        "print(5//2)\n",
        "print(4//2)\n",
        "print(5.0//2)\n",
        "print(4.0//2)"
      ],
      "metadata": {
        "colab": {
          "base_uri": "https://localhost:8080/"
        },
        "id": "1GNRmrvK4bJd",
        "outputId": "025bdc8b-86dd-4994-eee5-fefae03855e0"
      },
      "execution_count": null,
      "outputs": [
        {
          "output_type": "stream",
          "name": "stdout",
          "text": [
            "2\n",
            "2\n",
            "2.0\n",
            "2.0\n"
          ]
        }
      ]
    },
    {
      "cell_type": "markdown",
      "source": [
        "## 값을 정수로 만들기\n",
        "\n",
        "*   int(숫자)\n",
        "*   int(계산식)\n",
        "*   int('문자열')"
      ],
      "metadata": {
        "id": "RxgkaIj_76wj"
      }
    },
    {
      "cell_type": "code",
      "source": [
        "print(int(3.3))\n",
        "print(int(5/2))\n",
        "print(int('10'))"
      ],
      "metadata": {
        "id": "Yaz1jmDD8XRm",
        "outputId": "b0db36b4-d411-474c-c8a7-55fa7a70ee20",
        "colab": {
          "base_uri": "https://localhost:8080/"
        }
      },
      "execution_count": null,
      "outputs": [
        {
          "output_type": "stream",
          "name": "stdout",
          "text": [
            "3\n",
            "2\n",
            "10\n"
          ]
        }
      ]
    },
    {
      "cell_type": "markdown",
      "source": [
        "# 두 변수의 값을 바꾸려면"
      ],
      "metadata": {
        "id": "pHLilhGdHGeL"
      }
    },
    {
      "cell_type": "code",
      "source": [
        "x, y = 10, 20\n",
        "print('x=', x)\n",
        "print('y=', y)\n",
        "x, y = y, x\n",
        "print('x=', x)\n",
        "print('y=', y)"
      ],
      "metadata": {
        "id": "a0-m2JViHMdB",
        "outputId": "830fbcb3-935b-4a76-ac6b-01b909bfdede",
        "colab": {
          "base_uri": "https://localhost:8080/"
        }
      },
      "execution_count": null,
      "outputs": [
        {
          "output_type": "stream",
          "name": "stdout",
          "text": [
            "x= 10\n",
            "y= 20\n",
            "x= 20\n",
            "y= 10\n"
          ]
        }
      ]
    },
    {
      "cell_type": "markdown",
      "source": [
        "# 객체의 자료형 알아내기\n",
        "type 함수 사용\n",
        "\n",
        "예) type(1.0)"
      ],
      "metadata": {
        "id": "o-P4nB7Ntrf_"
      }
    },
    {
      "cell_type": "code",
      "source": [
        "type(1.0)"
      ],
      "metadata": {
        "colab": {
          "base_uri": "https://localhost:8080/"
        },
        "id": "7ShLnpyqt5wL",
        "outputId": "61143af7-07e3-4ebf-c49c-1680f0885009"
      },
      "execution_count": null,
      "outputs": [
        {
          "output_type": "execute_result",
          "data": {
            "text/plain": [
              "float"
            ]
          },
          "metadata": {},
          "execution_count": 1
        }
      ]
    },
    {
      "cell_type": "markdown",
      "source": [
        "# 한 번에 여러 개 입력받기\n",
        "\n",
        "```\n",
        "a, b = input().split()                # 값 두 개를 입력받아 변수 두 개에 문자열로 저장\n",
        "a, b = map(int, input().split())      # 값 두 개를 입력받아 변수 두 개에 정수로 저장\n",
        "a, b = map(float, input().split())    # 값 두 개를 입력받아 변수 두 개에 실수로 저장\n",
        "```"
      ],
      "metadata": {
        "id": "F_KRmR6DuPTt"
      }
    },
    {
      "cell_type": "markdown",
      "source": [
        "# 단락 평가\n",
        "단락 평가는 첫 번째 값만으로 결과가 확실할 때 두 번째 값은 확인(평가)하지 않는 방법을 말합니다. 즉, and 연산자는 두 값이 모두 참이라야 참이므로 첫 번째 값이 거짓이면 두 번째 값은 확인하지 않고 바로 거짓으로 결정합니다.\n",
        "\n",
        "```\n",
        "# 첫 번째 값이 거짓이므로 두 번째 값은 확인하지 않고 거짓으로 결정\n",
        "print(False and True)     # False\n",
        "print(False and False)    # False\n",
        "```\n",
        "\n",
        "or 연산자는 두 값 중 하나만 참이라도 참이므로 첫 번째 값이 참이면 두 번째 값은 확인하지 않고 바로 참으로 결정합니다.\n",
        "```\n",
        "# 첫 번째 값이 참이므로 두 번째 값은 확인하지 않고 참으로 결정\n",
        "print(True or True)     # True\n",
        "print(True or False)    # True\n",
        "```\n",
        "\n",
        "True and 'Python'의 결과는?\n",
        "```\n",
        ">>> True and 'Python'\n",
        "'Python'\n",
        "```\n",
        "문자열 'Python'도 불로 따지면 True라서 True and True가 되어 True가 나올 것 같지만 'Python'이 나왔습니다. 왜냐하면 파이썬에서 논리 연산자는 마지막으로 단락 평가를 실시한 값을 그대로 반환하기 때문입니다. 따라서 논리 연산자는 무조건 불을 반환하지 않습니다.\n",
        "다음과 같이 마지막으로 단락 평가를 실시한 값이 불이면 불을 반환하게 됩니다.\n",
        "```\n",
        ">>> 'Python' and True\n",
        "True\n",
        ">>> 'Python' and False\n",
        "False\n",
        "```\n",
        "여기서는 문자열 'Python'을 True로 쳐서 and 연산자가 두 번째 값까지 확인하므로 두 번째 값이 반환됩니다. 만약 다음과 같이 and 연산자 앞에 False나 False로 치는 값이 와서 첫 번째 값 만으로 결과가 결정나는 경우에는 첫 번째 값이 반환됩니다.\n",
        "```\n",
        ">>> False and 'Python'\n",
        "False\n",
        ">>> 0 and 'Python'    # 0은 False이므로 and 연산자는 두 번째 값을 평가하지 않음\n",
        "0\n",
        "```\n",
        "or 연산자도 마찬가지로 마지막으로 단락 평가를 실시한 값이 반환됩니다. 다음은 or 연산자에서 첫 번째 값만으로 결과가 결정되므로 첫 번째 값이 반환됩니다.\n",
        "```\n",
        ">>> True or 'Python'\n",
        "True\n",
        ">>> 'Python' or True\n",
        "'Python\n",
        "```\n",
        "만약 두 번째 값까지 판단해야 한다면 두 번째 값이 반환됩니다.\n",
        "```\n",
        ">>> False or 'Python'\n",
        "'Python'\n",
        ">>> 0 or False\n",
        "False\n",
        "```"
      ],
      "metadata": {
        "id": "FcsLCfcdKQs6"
      }
    },
    {
      "cell_type": "markdown",
      "source": [
        "# 문자열의 길이 구하기"
      ],
      "metadata": {
        "id": "tQwC99Bopxif"
      }
    },
    {
      "cell_type": "code",
      "source": [
        "hello = 'Hello, world!'\n",
        "len(hello)"
      ],
      "metadata": {
        "id": "OAb4qRgwp3Gb",
        "outputId": "783e6121-2cbd-4c65-82d9-10127ce42948",
        "colab": {
          "base_uri": "https://localhost:8080/"
        }
      },
      "execution_count": null,
      "outputs": [
        {
          "output_type": "execute_result",
          "data": {
            "text/plain": [
              "13"
            ]
          },
          "metadata": {},
          "execution_count": 1
        }
      ]
    },
    {
      "cell_type": "markdown",
      "source": [
        "## 한글 문자열 길이 구하기"
      ],
      "metadata": {
        "id": "FwHM4qRBqDvd"
      }
    },
    {
      "cell_type": "code",
      "source": [
        "hello = '안녕하세요'\n",
        "len(hello)"
      ],
      "metadata": {
        "id": "hcALgW_BqImj",
        "outputId": "00522827-92ac-4375-d06f-53b6e37e84f2",
        "colab": {
          "base_uri": "https://localhost:8080/"
        }
      },
      "execution_count": null,
      "outputs": [
        {
          "output_type": "execute_result",
          "data": {
            "text/plain": [
              "5"
            ]
          },
          "metadata": {},
          "execution_count": 2
        }
      ]
    },
    {
      "cell_type": "markdown",
      "source": [
        "# UTF-8 문자열의 바이트 수 구하기"
      ],
      "metadata": {
        "id": "V3CX_d3JqPi4"
      }
    },
    {
      "cell_type": "code",
      "source": [
        "hello = '안녕하세요'\n",
        "len(hello.encode('utf-8'))"
      ],
      "metadata": {
        "id": "KEoKQNcrqRtC",
        "outputId": "ef116a34-20a7-4de8-e98e-c4b2ab0d59c2",
        "colab": {
          "base_uri": "https://localhost:8080/"
        }
      },
      "execution_count": null,
      "outputs": [
        {
          "output_type": "execute_result",
          "data": {
            "text/plain": [
              "15"
            ]
          },
          "metadata": {},
          "execution_count": 3
        }
      ]
    },
    {
      "cell_type": "code",
      "source": [
        "hello = 'hello'\n",
        "len(hello.encode('utf-8')) "
      ],
      "metadata": {
        "id": "D9tklNgEqawP",
        "outputId": "0a6d7e78-a287-4a28-aa82-f2c7c3c2361b",
        "colab": {
          "base_uri": "https://localhost:8080/"
        }
      },
      "execution_count": null,
      "outputs": [
        {
          "output_type": "execute_result",
          "data": {
            "text/plain": [
              "5"
            ]
          },
          "metadata": {},
          "execution_count": 4
        }
      ]
    },
    {
      "cell_type": "markdown",
      "source": [
        "# 시퀀스 객체\n",
        "\n",
        "\n",
        "*   리스트\n",
        "*   튜플\n",
        "*   ranage\n",
        "*   문자열\n",
        "\n",
        "## 특정 값이 있는지 확인하기\n",
        "*   값 in 시퀀스객체\n",
        "```\n",
        ">>> a = [0, 10, 20, 30, 40, 50, 60, 70, 80, 90]\n",
        ">>> 30 in a\n",
        "True\n",
        ">>> 100 in a\n",
        "False\n",
        "```\n",
        "*   값 not in 시퀀스객체\n",
        "```\n",
        ">>> a = [0, 10, 20, 30, 40, 50, 60, 70, 80, 90]\n",
        ">>> 100 not in a\n",
        "True\n",
        ">>> 30 not in a\n",
        "False\n",
        "```\n",
        "*   튜플, range, 문자열\n",
        "```\n",
        ">>> 43 in (38, 76, 43, 62, 19)\n",
        "True\n",
        ">>> 1 in range(10)\n",
        "True\n",
        ">>> 'P' in 'Hello, Python'\n",
        "True\n",
        "```\n",
        "\n",
        "## 요소에 값 할당하기\n",
        "```\n",
        ">>> a = [0, 0, 0, 0, 0]    # 0이 5개 들어있는 리스트\n",
        ">>> a[0] = 38\n",
        ">>> a[1] = 21\n",
        ">>> a[2] = 53\n",
        ">>> a[3] = 62\n",
        ">>> a[4] = 19\n",
        ">>> a\n",
        "[38, 21, 53, 62, 19]\n",
        ">>> a[0]\n",
        "38\n",
        ">>> a[4]\n",
        "19\n",
        "```\n",
        "시퀀스 자료형 중에서 튜플, range, 문자열은 저장된 요소를 변경할 수 없습니다.(읽기 전용)\n",
        "```\n",
        ">>> b = (0, 0, 0, 0, 0)\n",
        ">>> b[0] = 38\n",
        "Traceback (most recent call last):\n",
        "  File \"<pyshell#5>\", line 1, in <module>\n",
        "    b[0] = 38\n",
        "TypeError: 'tuple' object does not support item assignment \n",
        ">>> r = range(0, 10, 2)\n",
        ">>> r[0] = 3\n",
        "Traceback (most recent call last):\n",
        "  File \"<pyshell#6>\", line 1, in <module>\n",
        "    r[0] = 3\n",
        "TypeError: 'range' object does not support item assignment \n",
        ">>> hello = 'Hello, world!'\n",
        ">>> hello[0] = 'A'\n",
        "Traceback (most recent call last):\n",
        "  File \"<pyshell#7>\", line 1, in <module>\n",
        "    hello[0] = 'A'\n",
        "TypeError: 'str' object does not support item assignment \n",
        "```"
      ],
      "metadata": {
        "id": "N1uSlFttZSTn"
      }
    }
  ]
}