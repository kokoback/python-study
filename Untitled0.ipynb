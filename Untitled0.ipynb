{
  "nbformat": 4,
  "nbformat_minor": 0,
  "metadata": {
    "colab": {
      "name": "Untitled0.ipynb",
      "provenance": [],
      "collapsed_sections": [],
      "toc_visible": true,
      "authorship_tag": "ABX9TyN51G/cHG9L+PMVyBCmMqyC",
      "include_colab_link": true
    },
    "kernelspec": {
      "name": "python3",
      "display_name": "Python 3"
    },
    "language_info": {
      "name": "python"
    }
  },
  "cells": [
    {
      "cell_type": "markdown",
      "metadata": {
        "id": "view-in-github",
        "colab_type": "text"
      },
      "source": [
        "<a href=\"https://colab.research.google.com/github/kokoback/python-study/blob/main/Untitled0.ipynb\" target=\"_parent\"><img src=\"https://colab.research.google.com/assets/colab-badge.svg\" alt=\"Open In Colab\"/></a>"
      ]
    },
    {
      "cell_type": "markdown",
      "source": [
        "# Hello, world! 출력\n",
        "print 함수로 Hello, world!를 출력합니다."
      ],
      "metadata": {
        "id": "E7lil4MVnRWI"
      }
    },
    {
      "cell_type": "markdown",
      "source": [
        ""
      ],
      "metadata": {
        "id": "cxEIEEkE2P5E"
      }
    },
    {
      "cell_type": "code",
      "execution_count": null,
      "metadata": {
        "id": "CmPN0LPwk6gz",
        "colab": {
          "base_uri": "https://localhost:8080/"
        },
        "outputId": "209ba1c7-fb2e-486b-f387-d27055c7e822"
      },
      "outputs": [
        {
          "output_type": "stream",
          "name": "stdout",
          "text": [
            "Hello, world!\n"
          ]
        }
      ],
      "source": [
        "print('Hello, world!')"
      ]
    },
    {
      "cell_type": "markdown",
      "source": [
        "# == , != 와 is, is not 의 차이점\n",
        "== 과 != 는 값 자체를 비교하고, is 와 is not은 객체를 비교한다.\n",
        "\n",
        "is 는 True나 False, None 과 비교할 때만 사용하자!"
      ],
      "metadata": {
        "id": "YZxMXvT5cRau"
      }
    },
    {
      "cell_type": "code",
      "source": [
        "print(3 == 3.0)\n",
        "print(3 is 3.0)"
      ],
      "metadata": {
        "colab": {
          "base_uri": "https://localhost:8080/"
        },
        "id": "m5qYBEgidqnr",
        "outputId": "90212d0e-f573-4c86-bf18-6d83f8542f8f"
      },
      "execution_count": null,
      "outputs": [
        {
          "output_type": "stream",
          "name": "stdout",
          "text": [
            "True\n",
            "False\n"
          ]
        }
      ]
    },
    {
      "cell_type": "markdown",
      "source": [
        "# 정수 계산\n",
        "파이썬 2에서 5 / 2는 2.5가 아닌 2가 나오는데, 정수끼리 나눗셈 결과는 정수가 나오도록 정했기 때문입니다. \n",
        "\n",
        "하지만 파이썬 3는 정수끼리 나눗셈을 해도 실수가 나옵니다."
      ],
      "metadata": {
        "id": "wQgcdiol2R4k"
      }
    },
    {
      "cell_type": "code",
      "source": [
        "print(5/2)\n",
        "print(4/2)"
      ],
      "metadata": {
        "id": "a98LaTyG2ZQC",
        "outputId": "0868c048-e0da-4f51-ce3f-cc86c1651130",
        "colab": {
          "base_uri": "https://localhost:8080/"
        }
      },
      "execution_count": 4,
      "outputs": [
        {
          "output_type": "stream",
          "name": "stdout",
          "text": [
            "2.5\n",
            "2.0\n"
          ]
        }
      ]
    }
  ]
}