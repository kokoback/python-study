{
  "nbformat": 4,
  "nbformat_minor": 0,
  "metadata": {
    "colab": {
      "name": "Untitled0.ipynb",
      "provenance": [],
      "collapsed_sections": [],
      "toc_visible": true,
      "authorship_tag": "ABX9TyMa+a8ux784eYQ1XB6ebnBE",
      "include_colab_link": true
    },
    "kernelspec": {
      "name": "python3",
      "display_name": "Python 3"
    },
    "language_info": {
      "name": "python"
    }
  },
  "cells": [
    {
      "cell_type": "markdown",
      "metadata": {
        "id": "view-in-github",
        "colab_type": "text"
      },
      "source": [
        "<a href=\"https://colab.research.google.com/github/kokoback/python-study/blob/main/Untitled0.ipynb\" target=\"_parent\"><img src=\"https://colab.research.google.com/assets/colab-badge.svg\" alt=\"Open In Colab\"/></a>"
      ]
    },
    {
      "cell_type": "markdown",
      "source": [
        "# Hello, world! 출력\n",
        "print 함수로 Hello, world!를 출력합니다."
      ],
      "metadata": {
        "id": "E7lil4MVnRWI"
      }
    },
    {
      "cell_type": "code",
      "execution_count": null,
      "metadata": {
        "id": "CmPN0LPwk6gz",
        "colab": {
          "base_uri": "https://localhost:8080/"
        },
        "outputId": "209ba1c7-fb2e-486b-f387-d27055c7e822"
      },
      "outputs": [
        {
          "output_type": "stream",
          "name": "stdout",
          "text": [
            "Hello, world!\n"
          ]
        }
      ],
      "source": [
        "print('Hello, world!')"
      ]
    },
    {
      "cell_type": "markdown",
      "source": [
        "# == , != 와 is, is not 의 차이점\n",
        "== 과 != 는 값 자체를 비교하고, is 와 is not은 객체를 비교한다.\n",
        "\n",
        "is 는 True나 False, None 과 비교할 때만 사용하자!"
      ],
      "metadata": {
        "id": "YZxMXvT5cRau"
      }
    },
    {
      "cell_type": "code",
      "source": [
        "print(3 == 3.0)\n",
        "print(3 is 3.0)"
      ],
      "metadata": {
        "colab": {
          "base_uri": "https://localhost:8080/"
        },
        "id": "m5qYBEgidqnr",
        "outputId": "90212d0e-f573-4c86-bf18-6d83f8542f8f"
      },
      "execution_count": null,
      "outputs": [
        {
          "output_type": "stream",
          "name": "stdout",
          "text": [
            "True\n",
            "False\n"
          ]
        }
      ]
    },
    {
      "cell_type": "markdown",
      "source": [
        "# 정수 계산\n",
        "파이썬 2에서 5 / 2는 2.5가 아닌 2가 나오는데, 정수끼리 나눗셈 결과는 정수가 나오도록 정했기 때문입니다. \n",
        "\n",
        "하지만 파이썬 3는 정수끼리 나눗셈을 해도 실수가 나옵니다."
      ],
      "metadata": {
        "id": "wQgcdiol2R4k"
      }
    },
    {
      "cell_type": "code",
      "source": [
        "print(5/2)\n",
        "print(4/2)"
      ],
      "metadata": {
        "id": "a98LaTyG2ZQC",
        "outputId": "0868c048-e0da-4f51-ce3f-cc86c1651130",
        "colab": {
          "base_uri": "https://localhost:8080/"
        }
      },
      "execution_count": null,
      "outputs": [
        {
          "output_type": "stream",
          "name": "stdout",
          "text": [
            "2.5\n",
            "2.0\n"
          ]
        }
      ]
    },
    {
      "cell_type": "markdown",
      "source": [
        "## 나눗셈 후 소수점 이하를 버리는 // 연산자\n",
        "//은 버림 나눗셈(floor division)이라고 부르며 나눗셈의 결과에서 소수점 이하는 버립니다.\n",
        "\n",
        "실수에 // 연산자를 사용하면 결과는 실수가 나오며 소수점 이하는 버립니다. 따라서 결과는 항상 .0으로 끝납니다."
      ],
      "metadata": {
        "id": "GcdG1Ibq4RrC"
      }
    },
    {
      "cell_type": "code",
      "source": [
        "print(5//2)\n",
        "print(4//2)\n",
        "print(5.0//2)\n",
        "print(4.0//2)"
      ],
      "metadata": {
        "colab": {
          "base_uri": "https://localhost:8080/"
        },
        "id": "1GNRmrvK4bJd",
        "outputId": "025bdc8b-86dd-4994-eee5-fefae03855e0"
      },
      "execution_count": null,
      "outputs": [
        {
          "output_type": "stream",
          "name": "stdout",
          "text": [
            "2\n",
            "2\n",
            "2.0\n",
            "2.0\n"
          ]
        }
      ]
    },
    {
      "cell_type": "markdown",
      "source": [
        "## 값을 정수로 만들기\n",
        "\n",
        "*   int(숫자)\n",
        "*   int(계산식)\n",
        "*   int('문자열')"
      ],
      "metadata": {
        "id": "RxgkaIj_76wj"
      }
    },
    {
      "cell_type": "code",
      "source": [
        "print(int(3.3))\n",
        "print(int(5/2))\n",
        "print(int('10'))"
      ],
      "metadata": {
        "id": "Yaz1jmDD8XRm",
        "outputId": "b0db36b4-d411-474c-c8a7-55fa7a70ee20",
        "colab": {
          "base_uri": "https://localhost:8080/"
        }
      },
      "execution_count": null,
      "outputs": [
        {
          "output_type": "stream",
          "name": "stdout",
          "text": [
            "3\n",
            "2\n",
            "10\n"
          ]
        }
      ]
    },
    {
      "cell_type": "markdown",
      "source": [
        "# 두 변수의 값을 바꾸려면"
      ],
      "metadata": {
        "id": "pHLilhGdHGeL"
      }
    },
    {
      "cell_type": "code",
      "source": [
        "x, y = 10, 20\n",
        "print('x=', x)\n",
        "print('y=', y)\n",
        "x, y = y, x\n",
        "print('x=', x)\n",
        "print('y=', y)"
      ],
      "metadata": {
        "id": "a0-m2JViHMdB",
        "outputId": "830fbcb3-935b-4a76-ac6b-01b909bfdede",
        "colab": {
          "base_uri": "https://localhost:8080/"
        }
      },
      "execution_count": 12,
      "outputs": [
        {
          "output_type": "stream",
          "name": "stdout",
          "text": [
            "x= 10\n",
            "y= 20\n",
            "x= 20\n",
            "y= 10\n"
          ]
        }
      ]
    }
  ]
}